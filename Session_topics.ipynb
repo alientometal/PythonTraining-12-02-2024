{
 "cells": [
  {
   "attachments": {},
   "cell_type": "markdown",
   "metadata": {},
   "source": [
    "# Todays Topics:\n",
    "\n",
    "- Useful modules (quick glimpse)\n",
    "  - csv\n",
    "  - collections\n",
    "  - datetime\n",
    "- Object Oriented Programming Basics\n",
    "\n",
    "## Optional (if we have time):\n",
    "\n",
    "# Past topics:\n",
    "\n",
    "- Control Structures\n",
    "  - Conditional Statements\n",
    "  - Loops\n",
    "    - For loop\n",
    "    - While loop\n",
    "- Functions\n",
    "- Optimizing in Python\n",
    "  - List Comprehension\n",
    "  - Generators\n",
    "\n",
    "- File handling\n",
    "- Lambda Functions\n",
    "- Exception Handling"
   ]
  },
  {
   "attachments": {},
   "cell_type": "markdown",
   "metadata": {},
   "source": [
    "### Check:\n",
    "- ~~Initial setup and Google Colab~~\n",
    "\n",
    "### Comments:\n",
    "- ~~Data types more in depth~~\n",
    "- More interactive sessions\n",
    "\n",
    "### Tackle from last session:\n",
    "- ~~Indexing~~\n",
    "- ~~Slicing~~\n",
    "- ~~Inclusive and Exclusive~~\n",
    "- ~~String Formatting~~\n",
    "- ~~Comments and Docstrings~~\n",
    "- os \n",
    "\n"
   ]
  }
 ],
 "metadata": {
  "language_info": {
   "name": "python"
  },
  "orig_nbformat": 4
 },
 "nbformat": 4,
 "nbformat_minor": 2
}
